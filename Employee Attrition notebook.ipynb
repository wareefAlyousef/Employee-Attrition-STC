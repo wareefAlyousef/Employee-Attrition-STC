{
 "cells": [
  {
   "cell_type": "markdown",
   "id": "ac9ecfb1",
   "metadata": {},
   "source": [
    "Import lyprarys"
   ]
  },
  {
   "cell_type": "code",
   "execution_count": null,
   "id": "b11bdbe2",
   "metadata": {},
   "outputs": [],
   "source": [
    "import numpy as np\n",
    "import pandas as pd\n",
    "import matplotlib as \n",
    "import seaborn"
   ]
  },
  {
   "cell_type": "code",
   "execution_count": null,
   "id": "6fff6a52",
   "metadata": {},
   "outputs": [],
   "source": []
  }
 ],
 "metadata": {
  "kernelspec": {
   "display_name": "myenv",
   "language": "python",
   "name": "python3"
  },
  "language_info": {
   "name": "python",
   "version": "3.10.18"
  }
 },
 "nbformat": 4,
 "nbformat_minor": 5
}
